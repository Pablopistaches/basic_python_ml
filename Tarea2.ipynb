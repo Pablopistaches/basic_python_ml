{
 "cells": [
  {
   "cell_type": "markdown",
   "metadata": {},
   "source": [
    "# Introducción a la Ciencia de Datos y al Aprendizaje Estadístico (ML)\n",
    "\n",
    "## Tarea 2\n",
    "\n",
    "Instrucciones: si no te sobra el tiempo, escoge siete de los diez ejercicios y resuélvelos (si logras resolver el ejercicio 10 por ti mismo recibirás la distinción de \"Python Champion\" la próxima clase ). 🐍\n",
    "\n",
    "Si te sobra el tiempo y te interesa mucho el curso resuélvelos TODOS.\n",
    "\n",
    "--------"
   ]
  },
  {
   "cell_type": "markdown",
   "metadata": {},
   "source": [
    "__1)__Para ser digno de tomar el curso \"Aprendizaje Estadístico y Análisis de Datos\" del M. en C. Carlos Malanche Flores, debes de ser capaz de adivinar el resultado de la siguiente instrucción:  "
   ]
  },
  {
   "cell_type": "code",
   "execution_count": 2,
   "metadata": {},
   "outputs": [
    {
     "data": {
      "text/plain": [
       "['data0.txt', 'data1.txt', 'data2.txt', 'data3.txt', 'data4.txt']"
      ]
     },
     "execution_count": 2,
     "metadata": {},
     "output_type": "execute_result"
    }
   ],
   "source": [
    "l = ['data'+str(s)+'.txt' for s in range(0,5)]  ; l"
   ]
  },
  {
   "cell_type": "code",
   "execution_count": null,
   "metadata": {},
   "outputs": [],
   "source": [
    "Adivina lo que hará el código ejecutando partes del mismo y luego córrelo completo para comprobar su adivinaste bien o mal. ¿Eres digno de tomar este prestigioso curso en Facultad de Ciencias? Hint: para darte una mejor idea de qué hace el código prueba ejecutando lo siguiente:"
   ]
  },
  {
   "cell_type": "code",
   "execution_count": 3,
   "metadata": {},
   "outputs": [
    {
     "name": "stdout",
     "output_type": "stream",
     "text": [
      "0\n",
      "1\n",
      "2\n",
      "3\n",
      "4\n"
     ]
    }
   ],
   "source": [
    "for s in range(0,5):\n",
    "    print(s)"
   ]
  },
  {
   "cell_type": "code",
   "execution_count": 4,
   "metadata": {},
   "outputs": [
    {
     "data": {
      "text/plain": [
       "'data3.csv'"
      ]
     },
     "execution_count": 4,
     "metadata": {},
     "output_type": "execute_result"
    }
   ],
   "source": [
    "'data' + str(3) + '.csv'"
   ]
  },
  {
   "cell_type": "code",
   "execution_count": null,
   "metadata": {},
   "outputs": [],
   "source": []
  },
  {
   "cell_type": "markdown",
   "metadata": {},
   "source": [
    "Adivina aquí: "
   ]
  },
  {
   "cell_type": "markdown",
   "metadata": {},
   "source": [
    "Yo creo que... es una lista de comprensión en la cual corre de 0 a 4 el string usando como contador s"
   ]
  },
  {
   "cell_type": "markdown",
   "metadata": {},
   "source": [
    "Ejecuta y ve si adivinaste, aquí:"
   ]
  },
  {
   "cell_type": "code",
   "execution_count": 5,
   "metadata": {},
   "outputs": [
    {
     "data": {
      "text/plain": [
       "['data0.txt', 'data1.txt', 'data2.txt', 'data3.txt', 'data4.txt']"
      ]
     },
     "execution_count": 5,
     "metadata": {},
     "output_type": "execute_result"
    }
   ],
   "source": [
    "l = ['data'+str(s)+'.txt' for s in range(0,5)]\n",
    "l"
   ]
  },
  {
   "cell_type": "markdown",
   "metadata": {},
   "source": [
    "--------\n",
    "__2)__ Guarda tu texto favorito dentro de la variable texto (e.g. mi texto favorito es  Le Regret d'Héraclite de J.L.B. por lo que tendría que hacer: texto = 'Yo, que tantos hombres he sido, no he sido nunca aquel en cuyo abrazo desfallecía Matilde Urbach.'). Escribe un programa que cuente el número de mayúsculas en texto y, ya que andas en eso, escribe otro que cuente el número de minúsculas y otro que cuente el número de números (Hint: no lo vimos en clase, pero literal Googlea cómo contar el número de mayúsculas con Python y encontrarás la respuesta) "
   ]
  },
  {
   "cell_type": "code",
   "execution_count": 8,
   "metadata": {},
   "outputs": [
    {
     "data": {
      "text/plain": [
       "'Market fetishism—is not the consistent application of Modern Economics, but its primitive, simplistic perversion.'"
      ]
     },
     "execution_count": 8,
     "metadata": {},
     "output_type": "execute_result"
    }
   ],
   "source": [
    "text = 'Market fetishism—is not the consistent application of Modern Economics, but its primitive, simplistic perversion 1.' ; text"
   ]
  },
  {
   "cell_type": "code",
   "execution_count": 7,
   "metadata": {},
   "outputs": [
    {
     "name": "stdout",
     "output_type": "stream",
     "text": [
      "93\n",
      "3\n",
      "2\n"
     ]
    }
   ],
   "source": [
    "texto = 'Market fetishism—is not the consistent application of Modern Economics1, but its primitive, simplistic perversion 2.' ; texto\n",
    "minusculas=0\n",
    "mayusculas=0\n",
    "digit=0\n",
    "for i in texto:\n",
    "      if(i.islower()):\n",
    "            minusculas=minusculas+1\n",
    "      elif(i.isupper()):\n",
    "            mayusculas=mayusculas+1\n",
    "      elif(i.isdigit()):\n",
    "          digit=digit+1\n",
    "print(minusculas)\n",
    "print(mayusculas)\n",
    "print(digit)"
   ]
  },
  {
   "cell_type": "markdown",
   "metadata": {},
   "source": [
    "------\n",
    "__3)__ Sea lista1 = [0, 1, 3, 4, 5] y lista2 = [1, 7, 0,5]. ¿Qué es lo que haría el código "
   ]
  },
  {
   "cell_type": "raw",
   "metadata": {},
   "source": [
    "sorted([i for i in lista1 if i in lista2])"
   ]
  },
  {
   "cell_type": "markdown",
   "metadata": {},
   "source": [
    "identifica qué elementos de la lista 1 se encuentran en la lista 2 y los ordena de menor a mayor"
   ]
  },
  {
   "cell_type": "markdown",
   "metadata": {},
   "source": [
    "Define las listas aquí:"
   ]
  },
  {
   "cell_type": "code",
   "execution_count": 10,
   "metadata": {},
   "outputs": [],
   "source": [
    "lista1 = [0, 1, 3, 4, 5]"
   ]
  },
  {
   "cell_type": "code",
   "execution_count": 11,
   "metadata": {},
   "outputs": [],
   "source": [
    "lista2 = [1, 7, 0,5]"
   ]
  },
  {
   "cell_type": "markdown",
   "metadata": {},
   "source": [
    "Ejecuta y explica qué hizo:"
   ]
  },
  {
   "cell_type": "code",
   "execution_count": 12,
   "metadata": {},
   "outputs": [
    {
     "data": {
      "text/plain": [
       "[0, 1, 5]"
      ]
     },
     "execution_count": 12,
     "metadata": {},
     "output_type": "execute_result"
    }
   ],
   "source": [
    "sorted([i for i in lista2 if i in lista1])"
   ]
  },
  {
   "cell_type": "markdown",
   "metadata": {},
   "source": [
    "Este comando identifica qué elementos de la lista 1 se encuentran en la lista 2 y los ordena de menor a mayor"
   ]
  },
  {
   "cell_type": "markdown",
   "metadata": {},
   "source": [
    "---------\n",
    "__4)__ Dada la lista1 del ejercicio anterior, escribe una línea de código que randomize los elementos de dicha lista (Hint: busca en la documentación de la librería Random de Python el método shuffle)."
   ]
  },
  {
   "cell_type": "code",
   "execution_count": 14,
   "metadata": {},
   "outputs": [
    {
     "name": "stdout",
     "output_type": "stream",
     "text": [
      "['not', 'is', 'consistent', 'simplistic', 'primitive', 'application', 'Economics', 'but', 'its', 'of', 'perversion', 'Modern', 'the', 'fetishism', 'Market']\n"
     ]
    }
   ],
   "source": [
    "import random\n",
    "string=['Market','fetishism','is','not','the','consistent','application','of','Modern','Economics','but','its','primitive','simplistic','perversion']\n",
    "random.shuffle(string)\n",
    "print(string)"
   ]
  },
  {
   "cell_type": "code",
   "execution_count": null,
   "metadata": {},
   "outputs": [],
   "source": []
  },
  {
   "cell_type": "markdown",
   "metadata": {},
   "source": [
    "-----------\n",
    "__5)__ Define la función potencia como $potencia(x) = x^{x}$ tanto con la palabra reservada *def* como con función lambda."
   ]
  },
  {
   "cell_type": "code",
   "execution_count": 10,
   "metadata": {},
   "outputs": [
    {
     "name": "stdout",
     "output_type": "stream",
     "text": [
      "256\n"
     ]
    }
   ],
   "source": [
    "def potencia(x):\n",
    "    return x**x\n",
    "# return value\n",
    "a = potencia(4)\n",
    "print (a)"
   ]
  },
  {
   "cell_type": "code",
   "execution_count": 11,
   "metadata": {},
   "outputs": [
    {
     "data": {
      "text/plain": [
       "256"
      ]
     },
     "execution_count": 11,
     "metadata": {},
     "output_type": "execute_result"
    }
   ],
   "source": [
    "g = lambda x: x**x\n",
    "g(4)"
   ]
  },
  {
   "cell_type": "markdown",
   "metadata": {},
   "source": [
    "Prueba tu función tu potencia con x = 3 (i.e. ejecuta potencia(3))"
   ]
  },
  {
   "cell_type": "code",
   "execution_count": 13,
   "metadata": {},
   "outputs": [
    {
     "name": "stdout",
     "output_type": "stream",
     "text": [
      "27\n"
     ]
    }
   ],
   "source": [
    "a = potencia(3)\n",
    "print (a)"
   ]
  },
  {
   "cell_type": "markdown",
   "metadata": {},
   "source": [
    "Esribe la misma función usando lambda y pruébala con x = 3"
   ]
  },
  {
   "cell_type": "code",
   "execution_count": 14,
   "metadata": {},
   "outputs": [
    {
     "data": {
      "text/plain": [
       "27"
      ]
     },
     "execution_count": 14,
     "metadata": {},
     "output_type": "execute_result"
    }
   ],
   "source": [
    "g(3)"
   ]
  },
  {
   "cell_type": "markdown",
   "metadata": {},
   "source": [
    "------------\n",
    "__6)__ ¿Qué hace la función map() de Python?"
   ]
  },
  {
   "cell_type": "markdown",
   "metadata": {},
   "source": [
    "La función map...\n",
    "\n",
    "-----es un función que que aplica otra función sobre algún objeto iterable, recibe dos argumentos, el primero es una función mientras que el segundo es un objeto iterable"
   ]
  },
  {
   "cell_type": "markdown",
   "metadata": {},
   "source": [
    "__7)__ Realiza los siguientes pasos:\n",
    "\n",
    "* Usa la función map para generar la lista del cuadrado de todos los números enteros desde cero hasta un millón. Hazlo tanto con una función anónima lambda como con una función definida previamente con el nombre de *square*.\n",
    "\n",
    "P.D. Para no imprimir un millón de números en tu notebook guarda tu objeto map(función, lista) en una variable, luego transfórmalo a lista y también guárdalo (NO LO DESPLIEGUES EN LA PANTALLA (te lo aconsejo por tu bien)). Una vez hecho esto, consulta únicamente los primeros 10 elementos de tu lista (algo así como)"
   ]
  },
  {
   "cell_type": "raw",
   "metadata": {},
   "source": [
    "nombre_de_lista[0:10] "
   ]
  },
  {
   "cell_type": "code",
   "execution_count": 6,
   "metadata": {},
   "outputs": [
    {
     "name": "stdout",
     "output_type": "stream",
     "text": [
      "16\n"
     ]
    },
    {
     "data": {
      "text/plain": [
       "[0, 1, 4, 9, 16, 25, 36, 49, 64, 81]"
      ]
     },
     "execution_count": 6,
     "metadata": {},
     "output_type": "execute_result"
    }
   ],
   "source": [
    "def square(x):\n",
    "    return x**2\n",
    "# return value\n",
    "a = square(4)\n",
    "print (a)\n",
    "l = list(range(1000001)) \n",
    "gj = list(map(square,l))\n",
    "gj[0:10]"
   ]
  },
  {
   "cell_type": "code",
   "execution_count": 19,
   "metadata": {},
   "outputs": [
    {
     "data": {
      "text/plain": [
       "[0, 1, 4, 9, 16, 25, 36, 49, 64, 81]"
      ]
     },
     "execution_count": 19,
     "metadata": {},
     "output_type": "execute_result"
    }
   ],
   "source": [
    "g = lambda x: x**2\n",
    "g(4)\n",
    "l = list(range(1000001))\n",
    "gh = list(map(g,l))\n",
    "gh[0:10]"
   ]
  },
  {
   "cell_type": "code",
   "execution_count": null,
   "metadata": {},
   "outputs": [],
   "source": []
  },
  {
   "cell_type": "markdown",
   "metadata": {},
   "source": [
    "* Haz exactamente lo mismo que en el inciso pasado, pero con listas de comprensión."
   ]
  },
  {
   "cell_type": "code",
   "execution_count": 1,
   "metadata": {},
   "outputs": [
    {
     "data": {
      "text/plain": [
       "[0, 1, 4, 9, 16, 25, 36, 49, 64, 81]"
      ]
     },
     "execution_count": 1,
     "metadata": {},
     "output_type": "execute_result"
    }
   ],
   "source": [
    "clist = [x**2 for x in range(1000001)]\n",
    "clist[0:10]"
   ]
  },
  {
   "cell_type": "markdown",
   "metadata": {},
   "source": [
    "* Agrega a tu lista de comprensión una condicional para que sólo seleccione los cuadrados que sean pares (divisibles entre 2). Si no sabes cómo hacerlo revisa el final del Notebook 2 o, mejor aún, pregúntale a Google."
   ]
  },
  {
   "cell_type": "code",
   "execution_count": 4,
   "metadata": {},
   "outputs": [
    {
     "data": {
      "text/plain": [
       "[0, 4, 16, 36, 64, 100, 144, 196, 256, 324]"
      ]
     },
     "execution_count": 4,
     "metadata": {},
     "output_type": "execute_result"
    }
   ],
   "source": [
    "clist = [x**2 for x in range(1000001) if x%2 == 0]\n",
    "clist[0:10]"
   ]
  },
  {
   "cell_type": "code",
   "execution_count": null,
   "metadata": {},
   "outputs": [],
   "source": []
  },
  {
   "cell_type": "markdown",
   "metadata": {},
   "source": [
    "* Usa el comando mágico %%time para medir el tiempo de ejecución de cuando usas la función map para elevar al cuadrado el primer millón de números, haz lo mismo para tu lista de comprensión que hace exactamente lo mismo y, por último, también mide el tiempo de ejecución para tu lista de comprensión que eleva al cuadrado y termina quedándose sólo con los cuadrados pares. ¿Cuál de ellos toma menos tiempo en ejecutarse? ¿Es mucha la diferencia?"
   ]
  },
  {
   "cell_type": "code",
   "execution_count": 7,
   "metadata": {},
   "outputs": [
    {
     "name": "stdout",
     "output_type": "stream",
     "text": [
      "CPU times: user 267 ms, sys: 8 ms, total: 275 ms\n",
      "Wall time: 273 ms\n"
     ]
    }
   ],
   "source": [
    "%%time\n",
    "gj = list(map(square,l))"
   ]
  },
  {
   "cell_type": "code",
   "execution_count": 8,
   "metadata": {},
   "outputs": [
    {
     "name": "stdout",
     "output_type": "stream",
     "text": [
      "CPU times: user 245 ms, sys: 7.45 ms, total: 252 ms\n",
      "Wall time: 250 ms\n"
     ]
    }
   ],
   "source": [
    "%%time\n",
    "clist = [x**2 for x in range(1000001)]"
   ]
  },
  {
   "cell_type": "code",
   "execution_count": 9,
   "metadata": {},
   "outputs": [
    {
     "name": "stdout",
     "output_type": "stream",
     "text": [
      "CPU times: user 166 ms, sys: 12.2 ms, total: 179 ms\n",
      "Wall time: 177 ms\n"
     ]
    }
   ],
   "source": [
    "%%time\n",
    "clist = [x**2 for x in range(1000001) if x%2 == 0]"
   ]
  },
  {
   "cell_type": "markdown",
   "metadata": {},
   "source": [
    "--------\n",
    "Prepárate para el breviario cultural más aburrido de la historia sobre la fórmula de Haversine:"
   ]
  },
  {
   "cell_type": "markdown",
   "metadata": {},
   "source": [
    "## La Fórmula de Haversine"
   ]
  },
  {
   "cell_type": "markdown",
   "metadata": {},
   "source": [
    "La fórmula de Haversine se utiliza para calcular la distancia entre dos puntos sobre la superficie de una esfera. Para ubicar un punto en la superficie de una esfera basta con conocer el radio $R$, la latitud $\\phi$ y la longitud $\\lambda$. \n",
    "\n",
    "Sea $ (\\lambda_{1},\\phi_{1}, R) $ y $ (\\lambda_{2},\\phi_{2}, R) $ dos puntos sobre la superficie de la esfera, entonces la distancia d entre esos dos puntos podrá calcularse como:\n",
    "\n",
    "$ \\Delta \\lambda = \\lambda_{2} - \\lambda_{1} $\n",
    "\n",
    "$ \\Delta \\phi = \\phi_{2} - \\phi_{1} $\n",
    "\n",
    "$ a = \\sin^2(\\frac{\\Delta \\phi}{2})+ \\cos(\\phi_{1}) \\cdot \\cos(\\phi_{2}) \\cdot \\sin^2(\\frac{\\Delta \\lambda}{2}) $ \n",
    "\n",
    "$ c = \\arcsin(\\sqrt a)$\n",
    "\n",
    "$ d = 2Rc $\n",
    "\n",
    "Donde la longitud y la latitud están en __radianes__."
   ]
  },
  {
   "cell_type": "markdown",
   "metadata": {},
   "source": [
    "__8)__ De la librería math importa las funciones radians, sin, cos, asin y sqrt y úsalas para escribir una función en Python con la fórmula de Haversine. Hint: para importar funciones de librerías se sigue la siguiente estructura:"
   ]
  },
  {
   "cell_type": "raw",
   "metadata": {},
   "source": [
    "from nombre_librería import funcion1, funcion2, funcion3, funcion4, funcion5"
   ]
  },
  {
   "cell_type": "code",
   "execution_count": 10,
   "metadata": {},
   "outputs": [],
   "source": [
    "from math import radians, sin, cos, asin, sqrt"
   ]
  },
  {
   "cell_type": "markdown",
   "metadata": {},
   "source": [
    "Hint 2: a modo de guía esta es la función a medio hacer:"
   ]
  },
  {
   "cell_type": "code",
   "execution_count": 35,
   "metadata": {},
   "outputs": [],
   "source": [
    "def Haversine(lat1,lon1,lat2,lon2):\n",
    "    \"\"\"Está función, suponiendio que el radio de la Tierra es constante, calcula la distancia\n",
    "    entre dos puntos sobre la superficie terrestre.\"\"\"\n",
    "    lat1, lon1, lat2, lon2 = map(radians, [lat1,lon1,lat2,lon2])\n",
    "    dlat = (lat2-lat1)/2\n",
    "    dlon = (lon2-lon1)/2\n",
    "    a = sin(dlat) ** 2 + cos(lat1) * cos(lat2) * sin(dlon)**2\n",
    "    c = asin(sqrt(a))\n",
    "    R = 6378 # Radio de la Tierra en kilómetros\n",
    "    return 2*R*c"
   ]
  },
  {
   "cell_type": "code",
   "execution_count": 37,
   "metadata": {},
   "outputs": [
    {
     "data": {
      "text/plain": [
       "5835.665209500356"
      ]
     },
     "execution_count": 37,
     "metadata": {},
     "output_type": "execute_result"
    }
   ],
   "source": [
    "io = Haversine(40.781815, -74.158312, 49.195147, 2.35545) ; io"
   ]
  },
  {
   "cell_type": "markdown",
   "metadata": {},
   "source": [
    "__9)__ Para comprobar que tu función está bien, calcula la distancia entre la Estatua de la Libertad en Estados Unidos y la Torre Eiffel en París.\n",
    "\n",
    "___Freedom = (40.781815, -74.158312)___\n",
    "\n",
    "___Eiffel = (49.195147, 2.355452)___\n",
    "\n",
    "P.D. la primera coordenada es latitud (Norte/Sur) y la segunda es longitud (Este/Oeste)\n",
    "\n",
    "Si tu función está bien, debes obtener un resultado cercano a 5834 kilómetros (y si no me crees pregúntale a Google).\n",
    "\n"
   ]
  },
  {
   "cell_type": "code",
   "execution_count": 32,
   "metadata": {},
   "outputs": [
    {
     "name": "stdout",
     "output_type": "stream",
     "text": [
      "None\n"
     ]
    }
   ],
   "source": [
    "print(Haversine(40.781815, -74.158312, 49.195147, 2.35545))"
   ]
  },
  {
   "cell_type": "markdown",
   "metadata": {},
   "source": [
    "--------\n",
    "__10)__ Con n = 5 escribe un código que despliegue lo siguiente en la pantalla:"
   ]
  },
  {
   "cell_type": "raw",
   "metadata": {},
   "source": [
    "X___X\n",
    "_X_X_\n",
    "__X__\n",
    "_X_X_\n",
    "X___X"
   ]
  },
  {
   "cell_type": "markdown",
   "metadata": {},
   "source": [
    "Tu código también debe funcionar para n = 6 y, en ese caso, debe desplegar lo siguiente en la pantalla:"
   ]
  },
  {
   "cell_type": "raw",
   "metadata": {},
   "source": [
    "X____X\n",
    "_X__X_\n",
    "__XX__\n",
    "__XX__\n",
    "_X__X_\n",
    "X____X"
   ]
  },
  {
   "cell_type": "code",
   "execution_count": null,
   "metadata": {},
   "outputs": [],
   "source": []
  },
  {
   "cell_type": "code",
   "execution_count": null,
   "metadata": {},
   "outputs": [],
   "source": []
  },
  {
   "cell_type": "code",
   "execution_count": null,
   "metadata": {},
   "outputs": [],
   "source": []
  },
  {
   "cell_type": "code",
   "execution_count": null,
   "metadata": {},
   "outputs": [],
   "source": []
  }
 ],
 "metadata": {
  "kernelspec": {
   "display_name": "Python 3",
   "language": "python",
   "name": "python3"
  },
  "language_info": {
   "codemirror_mode": {
    "name": "ipython",
    "version": 3
   },
   "file_extension": ".py",
   "mimetype": "text/x-python",
   "name": "python",
   "nbconvert_exporter": "python",
   "pygments_lexer": "ipython3",
   "version": "3.6.8"
  }
 },
 "nbformat": 4,
 "nbformat_minor": 4
}
