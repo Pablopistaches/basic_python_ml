{
 "cells": [
  {
   "cell_type": "markdown",
   "metadata": {},
   "source": [
    "# Tarea Uno\n",
    "\n",
    "## Introducción a la Ciencia de Datos y al Aprendizaje Estaístico (Con Python) 🐍🐍🐍🐍🐍🐍🐍🐍 \n",
    "\n",
    "Instrucciones: todas las tareas del curso se responden y entregan en Jupyter-Lab. Los primeros cuatro ejercicios van de programación básica en Python y los últimos 5 van del uso de Markdown.\n",
    "\n",
    "P.D. A mí me tomó 12 minutos resolver esta tarea, si tú eres muchísimo menos experimentado, debería tomarte el triple de tiempo, es decir, aproximadamente 40 minutos."
   ]
  },
  {
   "cell_type": "markdown",
   "metadata": {},
   "source": [
    "1) Escribe un código que despliegue el resultado de elevar 2 a la potencia 8. "
   ]
  },
  {
   "cell_type": "code",
   "execution_count": 1,
   "metadata": {},
   "outputs": [
    {
     "data": {
      "text/plain": [
       "256"
      ]
     },
     "execution_count": 1,
     "metadata": {},
     "output_type": "execute_result"
    }
   ],
   "source": [
    "2**8"
   ]
  },
  {
   "cell_type": "markdown",
   "metadata": {},
   "source": [
    "2) Como vimos en clase, la función list() se usa para convertir tuplas en listas. De forma análoga la función str() puede usarse para convertir un número en carácter/string. Definiendo x = 8, convierte x en string y desplégalo en la pantalla. ¿Cómo sabes que tu objeto x es ahora un string? "
   ]
  },
  {
   "cell_type": "code",
   "execution_count": 3,
   "metadata": {},
   "outputs": [],
   "source": [
    "x = 8"
   ]
  },
  {
   "cell_type": "code",
   "execution_count": 6,
   "metadata": {},
   "outputs": [],
   "source": [
    "x=str(x)"
   ]
  },
  {
   "cell_type": "code",
   "execution_count": 7,
   "metadata": {},
   "outputs": [
    {
     "data": {
      "text/plain": [
       "str"
      ]
     },
     "execution_count": 7,
     "metadata": {},
     "output_type": "execute_result"
    }
   ],
   "source": [
    "type(x)"
   ]
  },
  {
   "cell_type": "markdown",
   "metadata": {},
   "source": [
    "3) De la siguiente lista obtener los elementos 1, 4 y gato. Luego obtener la letra z de pez y el apellido Mars de Bruno Mars. Por último usar la función len() para determinar el número de elementos contenidos en el objeto lista. ¿Hay algo que te llame la atención?  "
   ]
  },
  {
   "cell_type": "code",
   "execution_count": 9,
   "metadata": {},
   "outputs": [],
   "source": [
    "lista = [1, 4, 'gato', 'pez', ['Bruno Mars', 'EO']]"
   ]
  },
  {
   "cell_type": "code",
   "execution_count": 17,
   "metadata": {},
   "outputs": [
    {
     "data": {
      "text/plain": [
       "[1, 4, 'gato']"
      ]
     },
     "execution_count": 17,
     "metadata": {},
     "output_type": "execute_result"
    }
   ],
   "source": [
    "lista[0:3]"
   ]
  },
  {
   "cell_type": "code",
   "execution_count": 19,
   "metadata": {},
   "outputs": [
    {
     "data": {
      "text/plain": [
       "'z'"
      ]
     },
     "execution_count": 19,
     "metadata": {},
     "output_type": "execute_result"
    }
   ],
   "source": [
    "lista[3][2]"
   ]
  },
  {
   "cell_type": "code",
   "execution_count": 29,
   "metadata": {},
   "outputs": [
    {
     "data": {
      "text/plain": [
       "'Mars'"
      ]
     },
     "execution_count": 29,
     "metadata": {},
     "output_type": "execute_result"
    }
   ],
   "source": [
    "lista[4][0][6:10]"
   ]
  },
  {
   "cell_type": "code",
   "execution_count": 30,
   "metadata": {},
   "outputs": [
    {
     "data": {
      "text/plain": [
       "5"
      ]
     },
     "execution_count": 30,
     "metadata": {},
     "output_type": "execute_result"
    }
   ],
   "source": [
    "len(lista)"
   ]
  },
  {
   "cell_type": "markdown",
   "metadata": {},
   "source": [
    "4) Ejercicio de dos partes (la primera y la segunda (obvio 💅))\n",
    "\n",
    "* Usa la función append para pegarle todos los elementos de la lista2 a la lista1. El resultado NO debe ser una lista dentro de otra lista, es decir, debes pegar los elementos UNO POR UNO."
   ]
  },
  {
   "cell_type": "code",
   "execution_count": 45,
   "metadata": {},
   "outputs": [],
   "source": [
    "lista1 = ['I','', 'l', 0]\n",
    "lista2 = ['v',3,'', 'U']"
   ]
  },
  {
   "cell_type": "code",
   "execution_count": 47,
   "metadata": {},
   "outputs": [],
   "source": [
    "lista1.append(lista2[0])"
   ]
  },
  {
   "cell_type": "code",
   "execution_count": 48,
   "metadata": {},
   "outputs": [
    {
     "data": {
      "text/plain": [
       "['I', '', 'l', 0, 'v']"
      ]
     },
     "execution_count": 48,
     "metadata": {},
     "output_type": "execute_result"
    }
   ],
   "source": [
    "lista1"
   ]
  },
  {
   "cell_type": "code",
   "execution_count": 49,
   "metadata": {},
   "outputs": [],
   "source": [
    "lista1.append(lista2[1])"
   ]
  },
  {
   "cell_type": "code",
   "execution_count": 50,
   "metadata": {},
   "outputs": [
    {
     "data": {
      "text/plain": [
       "['I', '', 'l', 0, 'v', 3]"
      ]
     },
     "execution_count": 50,
     "metadata": {},
     "output_type": "execute_result"
    }
   ],
   "source": [
    "lista1"
   ]
  },
  {
   "cell_type": "code",
   "execution_count": 51,
   "metadata": {},
   "outputs": [],
   "source": [
    "lista1.append(lista2[2])"
   ]
  },
  {
   "cell_type": "code",
   "execution_count": 52,
   "metadata": {},
   "outputs": [
    {
     "data": {
      "text/plain": [
       "['I', '', 'l', 0, 'v', 3, '']"
      ]
     },
     "execution_count": 52,
     "metadata": {},
     "output_type": "execute_result"
    }
   ],
   "source": [
    "lista1"
   ]
  },
  {
   "cell_type": "code",
   "execution_count": 53,
   "metadata": {},
   "outputs": [],
   "source": [
    "lista1.append(lista2[3])"
   ]
  },
  {
   "cell_type": "code",
   "execution_count": 54,
   "metadata": {},
   "outputs": [
    {
     "data": {
      "text/plain": [
       "['I', '', 'l', 0, 'v', 3, '', 'U']"
      ]
     },
     "execution_count": 54,
     "metadata": {},
     "output_type": "execute_result"
    }
   ],
   "source": [
    "lista1"
   ]
  },
  {
   "cell_type": "code",
   "execution_count": 83,
   "metadata": {},
   "outputs": [
    {
     "name": "stdout",
     "output_type": "stream",
     "text": [
      "['I', '', 'l', 0, 'v', 3, '', 'U']\n"
     ]
    }
   ],
   "source": [
    "lista1 = ['I','', 'l', 0]\n",
    "lista2 = ['v',3,'', 'U']\n",
    "for i in lista2:\n",
    "    lista1.append(i)\n",
    "print(lista1)"
   ]
  },
  {
   "cell_type": "code",
   "execution_count": 1,
   "metadata": {},
   "outputs": [
    {
     "data": {
      "text/plain": [
       "[None, None, None, None]"
      ]
     },
     "execution_count": 1,
     "metadata": {},
     "output_type": "execute_result"
    }
   ],
   "source": [
    "lista1 = ['I','', 'l', 0]\n",
    "lista2 = ['v',3,'', 'U']\n",
    "[lista1.append(i) for i in lista2]"
   ]
  },
  {
   "cell_type": "code",
   "execution_count": null,
   "metadata": {},
   "outputs": [],
   "source": []
  },
  {
   "cell_type": "markdown",
   "metadata": {},
   "source": [
    "* Volvemos a definir la lista1 y lista2 exactamente igual que antes. Ahora en lugar de pegar los elementos uno por uno, prueba sumando la lista1 más la lista2 y guárdalas en un nuevo objeto llamado lista3. ¿Obtienes el mismo resultado? Por último convierte la lista3 a una tupla para que tu objeto te ame para siempre.  "
   ]
  },
  {
   "cell_type": "code",
   "execution_count": 94,
   "metadata": {},
   "outputs": [],
   "source": [
    "lista1 = ['I','', 'l', 0]\n",
    "lista2 = ['v',3,'', 'U']"
   ]
  },
  {
   "cell_type": "code",
   "execution_count": 95,
   "metadata": {},
   "outputs": [],
   "source": [
    "lista3=lista1+lista2"
   ]
  },
  {
   "cell_type": "code",
   "execution_count": 96,
   "metadata": {},
   "outputs": [
    {
     "data": {
      "text/plain": [
       "['I', '', 'l', 0, 'v', 3, '', 'U']"
      ]
     },
     "execution_count": 96,
     "metadata": {},
     "output_type": "execute_result"
    }
   ],
   "source": [
    "lista3"
   ]
  },
  {
   "cell_type": "markdown",
   "metadata": {},
   "source": [
    "A partir de aquí tenemos los ejercicios de Markdown, no olvides cambiar las celdas de formato __Code__ a formato __Markdown__. Hint: si tienes dudas abre el notebook 0_MarkDown y presiona doble click en los textos para ver cómo se hacen las cosas que te pido.\n",
    "\n",
    "5) Escribe con formato de Título el título de la última película que hayas visto y, debajo y con formato de subtítulo, quién fue tu personaje favorito de la película "
   ]
  },
  {
   "cell_type": "markdown",
   "metadata": {},
   "source": [
    "# Doctor Sleep"
   ]
  },
  {
   "cell_type": "markdown",
   "metadata": {},
   "source": [
    "## Danny Torrance"
   ]
  },
  {
   "cell_type": "markdown",
   "metadata": {},
   "source": [
    "6) A continuación te presentamos el primer párrafo del texto publicitario de este curso. Selecciona 3 palabras que quieras enfatizar del mismo y cambiálo de formato de letra normal a negritas. También escoge una palabra al azar y ponla en formato cursiva. "
   ]
  },
  {
   "cell_type": "markdown",
   "metadata": {},
   "source": [
    "¿Acabas de terminar, estás por terminar o estás cursando tu carrera de física, ingeniería, matemáticas, economía o afín y aún no sabes qué rayos vas a hacer con tu vida? ¿Tienes la mala costumbre de comer y ninguna forma a futuro de financiar tu vicio? ¿Intentaste aplicar a un posgrado de calidad mundial sólo para ser bateado o terminar completamente desilusionado del mismo? ¿Estás planteándote que quizás vivir de becas toda tu vida NO es tan buena idea cómo habías pensado en un principio? "
   ]
  },
  {
   "cell_type": "markdown",
   "metadata": {},
   "source": [
    "**Selecciona** ; **financiar** ; **rayos**"
   ]
  },
  {
   "cell_type": "markdown",
   "metadata": {},
   "source": [
    "*vicio*"
   ]
  },
  {
   "cell_type": "markdown",
   "metadata": {},
   "source": [
    "7) Escoge tu ecuación favorita y escríbela. Hint 1: si no sabes la sintaxis de LaTeX para escribir tu ecuación, revisa las __tablas__ de este [link](https://www.authorea.com/users/77723/articles/110898-how-to-write-mathematical-equations-expressions-and-symbols-with-latex-a-cheatsheet) para encontrar lo que te haga falta; Hint 2: mis ecuaciones favoritas de la física son las ecuaciones de Maxwell en su forma diferencial así que yo tendría que escribir lo siguiente:"
   ]
  },
  {
   "cell_type": "markdown",
   "metadata": {},
   "source": [
    "$ \\nabla \\cdot E = \\frac{\\rho}{\\epsilon_{0}} $\n",
    "\n",
    "$ \\nabla \\cdot B = 0 $\n",
    "\n",
    "$ \\nabla \\times E = -\\frac{\\partial B}{\\partial t} $\n",
    "\n",
    "$ \\nabla \\times B = -\\mu_{0} J + \\mu_{0}\\epsilon_{0} \\frac{\\partial E}{\\partial t}$\n",
    "\n",
    "Ahora es tu turno. 😋"
   ]
  },
  {
   "cell_type": "markdown",
   "metadata": {},
   "source": [
    " $ \\hat{\\beta}_{1}=\\dfrac{\\sum_{i=1}^{n}x_{i}y_{i}}{\\sum_{i=1}^{n}x_{i}^{2}} = \\hat{\\beta}_{1}=\\frac{S_{xy}}{S_{xx}} \\label{b_1} $ ; ecuación para obtener $\\hat{\\beta}_{1}$ en una regresión lineal simple"
   ]
  },
  {
   "cell_type": "markdown",
   "metadata": {},
   "source": [
    "8) Inserta la imagen polish.jpg ubicada en la carpeta Imagenes en este notebook. Luego inserta la imagen remedios.jpg ubicada en la carpeta Tarea Zero. Hint: para el  primero necesitas especificar la ubicación de la imagen (Imagenes/nombre_de_tu_imagen), para el segundo basta con que escribas el nombre de la imagen. "
   ]
  },
  {
   "cell_type": "markdown",
   "metadata": {},
   "source": [
    "<img src='Imagenes/polish.jpg'>"
   ]
  },
  {
   "cell_type": "markdown",
   "metadata": {},
   "source": [
    "<img src='remedios.jpg'>"
   ]
  },
  {
   "cell_type": "markdown",
   "metadata": {},
   "source": [
    "9) Crea un hipervínculo que te lleve directamente al Facebook de tu crush."
   ]
  },
  {
   "cell_type": "markdown",
   "metadata": {},
   "source": [
    "[twitter](https://twitter.com/MayaEnBici)"
   ]
  },
  {
   "cell_type": "markdown",
   "metadata": {},
   "source": [
    "no tengo facebook"
   ]
  },
  {
   "cell_type": "code",
   "execution_count": null,
   "metadata": {},
   "outputs": [],
   "source": []
  }
 ],
 "metadata": {
  "kernelspec": {
   "display_name": "Python 3",
   "language": "python",
   "name": "python3"
  },
  "language_info": {
   "codemirror_mode": {
    "name": "ipython",
    "version": 3
   },
   "file_extension": ".py",
   "mimetype": "text/x-python",
   "name": "python",
   "nbconvert_exporter": "python",
   "pygments_lexer": "ipython3",
   "version": "3.6.8"
  }
 },
 "nbformat": 4,
 "nbformat_minor": 4
}
